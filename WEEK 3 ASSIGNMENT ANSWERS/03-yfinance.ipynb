{
 "cells": [
  {
   "cell_type": "markdown",
   "metadata": {},
   "source": [
    "# yfinance Library Assignment  "
   ]
  },
  {
   "cell_type": "code",
   "execution_count": null,
   "metadata": {},
   "outputs": [],
   "source": [
    "import pandas as pd\n",
    "import yfinance as yf\n",
    "import matplotlib.pyplot as plt"
   ]
  },
  {
   "cell_type": "markdown",
   "metadata": {},
   "source": [
    "### Function Specification: `download_historical_data`\n",
    "\n",
    "Implement the function `download_historical_data` to fetch historical price data using Yahoo Finance as the data source. This function should be capable of fetching historical data for a specified stock symbol between given start and end dates. Additionally, it should support an optional parameter for the data timeframe with a default value of `'1d'` (daily).\n",
    "\n",
    "---\n",
    "\n",
    "### Function Specifications\n",
    "\n",
    "**Parameters:**\n",
    "- `symbol`: The ticker symbol of the stock (e.g., `'RELIANCE.NS'`).\n",
    "- `start_date`: Start date for the data in `'YYYY-MM-DD'` format.\n",
    "- `end_date`: End date for the data in `'YYYY-MM-DD'` format.\n",
    "- `timeframe`: The frequency of the data (`'1d'`, `'1wk'`, `'1mo'`), default is `'1d'`.\n",
    "\n",
    "**Return:**  \n",
    "A pandas `DataFrame` containing the fetched data.\n"
   ]
  },
  {
   "cell_type": "code",
   "execution_count": null,
   "metadata": {},
   "outputs": [],
   "source": [
    "df=yf.download('RELIANCE.NS', '2024-01-01', '2024-12-31','1d')\n",
    "df.head()"
   ]
  },
  {
   "cell_type": "markdown",
   "metadata": {},
   "source": [
    "### Visualization\n",
    "\n",
    "Create a function for plotting the stock closing prices. This function should accept parameters for the plot and its objective is to display the graph.\n",
    "   \n"
   ]
  },
  {
   "cell_type": "code",
   "execution_count": null,
   "metadata": {},
   "outputs": [],
   "source": [
    "def plot_stock_closing_price (data,symbol):\n",
    "    plt.figure(figsize=(12,6))\n",
    "    plt.plot(data.index, data['Close'], label='Closing Price', color='blue')\n",
    "    plt.title(f\"{symbol} Closing Price Over Time\")\n",
    "    plt.xlabel('Date')\n",
    "    plt.ylabel('Closing Price')\n",
    "    plt.grid(True)\n",
    "    plt.legend()\n",
    "    plt.tight_layout()\n",
    "    plt.show()"
   ]
  },
  {
   "cell_type": "markdown",
   "metadata": {},
   "source": [
    "### Run the functions \n",
    "\n",
    "**Choose Stocks:**  \n",
    "   - Select any three stocks of your choice.\n",
    "   - Fetch their data for the time period from **2012 to 2022**.\n",
    "   - Select daily time frame i.e. 1d.\n",
    "\n",
    "**Plot the Data:**  \n",
    "   1. Plot the data for each stock separately.  \n",
    "   2. Combine the data and plot all three stocks on the **same graph** for comparison."
   ]
  },
  {
   "cell_type": "code",
   "execution_count": null,
   "metadata": {},
   "outputs": [],
   "source": [
    "df_reliance=yf.download('RELIANCE.NS','2012-01-01','2022-12-31','1d')\n",
    "df_tcs=yf.download('TCS.NS','2012-01-01','2022-12-31','1d')\n",
    "df_infy=yf.download('INFY.NS','2012-01-01','2022-12-31','1d')"
   ]
  },
  {
   "cell_type": "code",
   "execution_count": null,
   "metadata": {},
   "outputs": [],
   "source": [
    "plot_stock_closing_price(df_reliance,'RELIANCE.NS')\n",
    "plot_stock_closing_price(df_infy,'INFY.NS')\n",
    "plot_stock_closing_price(df_tcs,'TCS.NS')"
   ]
  },
  {
   "cell_type": "code",
   "execution_count": null,
   "metadata": {},
   "outputs": [],
   "source": [
    "def download_historical_data(symbol, start_date, end_date, timeframe='1d'):\n",
    "    data = yf.download(symbol, start=start_date, end=end_date, interval=timeframe, progress=False)\n",
    "    return data\n",
    "def plot_multiple_stocks(stock_data_dict):\n",
    "    plt.figure(figsize=(12, 6))  # Set the figure size\n",
    "\n",
    "    for symbol, df in stock_data_dict.items():  # Loop through each stock and its data\n",
    "        plt.plot(df.index, df['Close'], label=symbol)  # Plot closing prices vs. date\n",
    "\n",
    "    plt.title(\"Comparison of Stock Closing Prices (2012–2022)\")  # Graph title\n",
    "    plt.xlabel('Date')\n",
    "    plt.ylabel('Closing Price')\n",
    "    plt.grid(True)\n",
    "    plt.legend()  # Show legend with stock names\n",
    "    plt.tight_layout()\n",
    "    plt.show()\n",
    "\n",
    "stocks = ['RELIANCE.NS', 'TCS.NS', 'INFY.NS'] \n",
    "stock_data = {}\n",
    "for symbol in stocks:\n",
    "    df = download_historical_data(symbol, '2012-01-01', '2022-12-31')\n",
    "    stock_data[symbol] = df\n",
    "plot_multiple_stocks(stock_data)"
   ]
  },
  {
   "cell_type": "markdown",
   "metadata": {},
   "source": [
    "### Technical Analysis "
   ]
  },
  {
   "cell_type": "markdown",
   "metadata": {},
   "source": [
    "**Simple Moving Averages (SMA) and Exponential Moving Averages (EMA)**  \n",
    "   - Plot the SMA and EMA of 5 days of each of the three stocks that you have selected.\n",
    "   - SMA and EMA graph should be plotted on the same graph \n",
    "   - Hence you have to plot three graphs of each stock with SMA and EMA\n",
    "    "
   ]
  },
  {
   "cell_type": "code",
   "execution_count": null,
   "metadata": {},
   "outputs": [],
   "source": [
    "df_reliance=yf.download('RELIANCE.NS','2012-01-01','2022-12-31','1d')\n",
    "df_tcs=yf.download('TCS.NS','2012-01-01','2022-12-31','1d')\n",
    "df_infy=yf.download('INFY.NS','2012-01-01','2022-12-31','1d')\n",
    "\n",
    "def plot_sma_ema (df,symbol):\n",
    "    df['SMA_5']=df['Close'].rolling(window=5).mean()\n",
    "    df['EMA_5']=df['Close'].ewm(span=5).mean()\n",
    "\n",
    "    plt.plot(df['Close'],label='close',color='Gray')\n",
    "    plt.plot(df['SMA_5'], label='SMA', color='blue')\n",
    "    plt.plot(df['EMA_5'], label='EMA', color='red')\n",
    "\n",
    "    plt.title(f'{symbol} - 5-Day SMA and EMA')\n",
    "    plt.xlabel('Date')\n",
    "    plt.ylabel('Price')\n",
    "    plt.legend()\n",
    "    plt.grid(True)\n",
    "    plt.tight_layout()\n",
    "    plt.show()\n",
    "\n",
    "plot_sma_ema(df_reliance, 'RELIANCE.NS')\n",
    "plot_sma_ema(df_tcs, 'TCS.NS')\n",
    "plot_sma_ema(df_infy, 'INFY.NS')\n",
    "\n",
    "    "
   ]
  },
  {
   "cell_type": "markdown",
   "metadata": {},
   "source": [
    "**MACD**  \n",
    "   - Plot MACD and Signal line for each of the three stocks.\n",
    "   - Fast Length (Short-term EMA): 12 periods\n",
    "   - Slow Length (Long-term EMA): 26 periods\n",
    "   - Signal Line (Smoothing EMA): 9 periods\n",
    "\n",
    "    "
   ]
  },
  {
   "cell_type": "code",
   "execution_count": null,
   "metadata": {},
   "outputs": [],
   "source": [
    "def plot_MACD (df,symbol):\n",
    "    short_ema=df['Close'].ewm(span=12, adjust=False).mean()\n",
    "    long_ema=df['Close'].ewm(span=26, adjust = False).mean()\n",
    "\n",
    "    df['MACD']=short_ema-long_ema\n",
    "    df['Signal_Line']=df['MACD'].ewm(span=9, adjust=False).mean()\n",
    "\n",
    "    plt.figure(figsize=(12, 6))\n",
    "    plt.plot(df['MACD'], label='MACD', color='blue')\n",
    "    plt.plot(df['Signal_Line'], label='Signal Line', color='red')\n",
    "    plt.title(f'{symbol} - MACD and Signal Line')\n",
    "    plt.xlabel('Date')\n",
    "    plt.ylabel('MACD Value')\n",
    "    plt.grid(True)\n",
    "    plt.legend()\n",
    "    plt.tight_layout()\n",
    "    plt.show()\n",
    "\n",
    "df_reliance=yf.download('RELIANCE.NS','2012-01-01','2022-12-31','1d')\n",
    "df_tcs=yf.download('TCS.NS','2012-01-01','2022-12-31','1d')\n",
    "df_infy=yf.download('INFY.NS','2012-01-01','2022-12-31','1d')\n",
    "plot_MACD(df_reliance, 'RELIANCE.NS')\n",
    "plot_MACD(df_tcs, 'TCS.NS')\n",
    "plot_MACD(df_infy, 'INFY.NS')\n",
    "\n"
   ]
  },
  {
   "cell_type": "markdown",
   "metadata": {},
   "source": [
    "**RSI**  \n",
    "   - Plot RSI for each of the three stocks\n",
    "   - Period = 14 days \n",
    "   - Also show the overbought and oversold regions \n",
    "   - Overbought condition: RSI above 70\n",
    "   - Oversold condition: RSI below 30\n",
    "   \n",
    "    "
   ]
  },
  {
   "cell_type": "code",
   "execution_count": null,
   "metadata": {},
   "outputs": [],
   "source": [
    "def calculate_RSI (df,period=14):\n",
    "    delta = df['Close'].diff()\n",
    "    gain = delta.where(delta > 0, 0)\n",
    "    loss = -delta.where(delta < 0, 0)\n",
    "\n",
    "    avg_gain = gain.rolling(window=period).mean()\n",
    "    avg_loss = loss.rolling(window=period).mean()\n",
    "\n",
    "    rs = avg_gain / avg_loss\n",
    "    rsi = 100 - (100 / (1 + rs))\n",
    "    \n",
    "    df['RSI'] = rsi\n",
    "    return df\n",
    "\n",
    "def plot_RSI (df,symbol):\n",
    "    plt.figure(figsize=(12, 4))\n",
    "    plt.plot(df['RSI'], label='RSI', color='purple')\n",
    "    plt.axhline(70, color='red', linestyle='--', label='Overbought (70)')\n",
    "    plt.axhline(30, color='green', linestyle='--', label='Oversold (30)')\n",
    "    plt.title(f'{symbol} - Relative Strength Index (14-Day)')\n",
    "    plt.xlabel('Date')\n",
    "    plt.ylabel('RSI')\n",
    "    plt.legend()\n",
    "    plt.grid(True)\n",
    "    plt.tight_layout()\n",
    "    plt.show()\n",
    "\n",
    "df_reliance=yf.download('RELIANCE.NS','2012-01-01','2022-12-31','1d')\n",
    "df_tcs=yf.download('TCS.NS','2012-01-01','2022-12-31','1d')\n",
    "df_infy=yf.download('INFY.NS','2012-01-01','2022-12-31','1d')\n",
    "df_infy=calculate_RSI(df_infy)\n",
    "df_reliance=calculate_RSI(df_reliance)\n",
    "df_tcs=calculate_RSI(df_tcs)\n",
    "plot_RSI(df_reliance,'RELIANCE.NS')\n",
    "plot_RSI(df_tcs,'TCS.NS')\n",
    "plot_RSI(df_infy,'INFY.NS')\n"
   ]
  },
  {
   "cell_type": "markdown",
   "metadata": {},
   "source": [
    "### Summarize your analysis"
   ]
  },
  {
   "cell_type": "markdown",
   "metadata": {},
   "source": [
    "1. Price Trend Overview\n",
    "All three stocks exhibited overall upward trends over the 10-year period.\n",
    "TCS and INFY (IT sector) showed consistent and strong growth, while RELIANCE showed more volatility but significant long-term gains.\n",
    "\n",
    "2. SMA and EMA (5-Day)\n",
    "EMA reacted faster to price changes than SMA.\n",
    "Frequent crossovers between EMA and SMA indicated short-term momentum shifts.\n",
    "Useful for identifying short-term trend reversals and entry/exit signals.\n",
    "\n",
    "3. MACD Analysis\n",
    "MACD lines showed clear bullish and bearish crossovers.\n",
    "INFY and TCS showed stronger and more frequent MACD swings, indicating higher trading momentum.\n",
    "Crosses above the Signal line typically preceded price increases, and vice versa.\n",
    "\n",
    "4. RSI (14-Day)\n",
    "Stocks occasionally entered overbought (RSI > 70) or oversold (RSI < 30) zones.\n",
    "These zones coincided with local highs or lows, offering potential reversal signals.\n",
    "TCS had fewer extreme RSI movements, suggesting stable price action."
   ]
  }
 ],
 "metadata": {
  "kernelspec": {
   "display_name": "base",
   "language": "python",
   "name": "python3"
  },
  "language_info": {
   "codemirror_mode": {
    "name": "ipython",
    "version": 3
   },
   "file_extension": ".py",
   "mimetype": "text/x-python",
   "name": "python",
   "nbconvert_exporter": "python",
   "pygments_lexer": "ipython3",
   "version": "3.12.7"
  }
 },
 "nbformat": 4,
 "nbformat_minor": 2
}
